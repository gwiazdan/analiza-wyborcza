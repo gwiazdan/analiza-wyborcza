{
 "cells": [
  {
   "cell_type": "code",
   "execution_count": 101,
   "id": "initial_id",
   "metadata": {
    "collapsed": true,
    "jupyter": {
     "is_executing": true
    }
   },
   "outputs": [],
   "source": [
    "import pandas as pd"
   ]
  },
  {
   "cell_type": "code",
   "execution_count": 102,
   "id": "fb27ceb3653f8c96",
   "metadata": {
    "ExecuteTime": {
     "end_time": "2025-02-20T00:15:45.134134Z",
     "start_time": "2025-02-20T00:15:45.115101Z"
    }
   },
   "outputs": [
    {
     "name": "stdout",
     "output_type": "stream",
     "text": [
      "           nazwa      kod\n",
      "174    Ostrołęka  1461000\n",
      "175        Płock  1462000\n",
      "176        Radom  1463000\n",
      "177      Siedlce  1464000\n",
      "178     Warszawa  1465000\n",
      "..           ...      ...\n",
      "375      wałecki  3217000\n",
      "376      łobeski  3218000\n",
      "377     Koszalin  3261000\n",
      "378     Szczecin  3262000\n",
      "379  Świnoujście  3263000\n",
      "\n",
      "[206 rows x 2 columns]\n"
     ]
    }
   ],
   "source": [
    "df_nazwy = pd.read_csv('Dane/nazwy.csv', sep=';')\n",
    "df_nazwy = df_nazwy.drop(columns=['id'])\n",
    "df_nazwy = df_nazwy.sort_values(by='kod')\n",
    "df_nazwy = df_nazwy.reset_index(drop=True)\n",
    "print(df_nazwy.loc[174:])\n"
   ]
  },
  {
   "cell_type": "code",
   "execution_count": 103,
   "id": "95bb9c653c13ac09",
   "metadata": {
    "ExecuteTime": {
     "end_time": "2025-02-20T00:15:45.213888Z",
     "start_time": "2025-02-20T00:15:45.177131Z"
    }
   },
   "outputs": [
    {
     "name": "stdout",
     "output_type": "stream",
     "text": [
      "   TERYT Powiatu          Powiat   Województwo  Nr okręgu  Liczba komisji  \\\n",
      "0         201000   bolesławiecki  dolnośląskie          1              82   \n",
      "1         202000  dzierżoniowski  dolnośląskie          2              90   \n",
      "2         203000       głogowski  dolnośląskie          1              57   \n",
      "3         204000        górowski  dolnośląskie          3              29   \n",
      "4         205000        jaworski  dolnośląskie          1              47   \n",
      "\n",
      "   Liczba uwzględnionych komisji  Komisja otrzymała kart do głosowania  \\\n",
      "0                             82                                 62054   \n",
      "1                             90                                 69081   \n",
      "2                             57                                 62314   \n",
      "3                             29                                 23738   \n",
      "4                             47                                 35087   \n",
      "\n",
      "   Liczba wyborców uprawnionych do głosowania  \\\n",
      "0                                       66394   \n",
      "1                                       74042   \n",
      "2                                       64410   \n",
      "3                                       25337   \n",
      "4                                       37390   \n",
      "\n",
      "   Nie wykorzystano kart do głosowania  \\\n",
      "0                                15537   \n",
      "1                                18190   \n",
      "2                                14894   \n",
      "3                                 7188   \n",
      "4                                 9424   \n",
      "\n",
      "   Liczba wyborców, którym wydano karty do głosowania  ...  \\\n",
      "0                                              46513   ...   \n",
      "1                                              50876   ...   \n",
      "2                                              47426   ...   \n",
      "3                                              16538   ...   \n",
      "4                                              25660   ...   \n",
      "\n",
      "   KOMITET WYBORCZY NOWA LEWICA  KOMITET WYBORCZY PRAWO I SPRAWIEDLIWOŚĆ  \\\n",
      "0                          4146                                    15465   \n",
      "1                          3797                                    17865   \n",
      "2                          4120                                    17212   \n",
      "3                          1623                                     6478   \n",
      "4                          2507                                    10139   \n",
      "\n",
      "   KOMITET WYBORCZY KONFEDERACJA WOLNOŚĆ I NIEPODLEGŁOŚĆ  \\\n",
      "0                                               3425       \n",
      "1                                               3582       \n",
      "2                                               2851       \n",
      "3                                               1123       \n",
      "4                                               1529       \n",
      "\n",
      "   KOALICYJNY KOMITET WYBORCZY KOALICJA OBYWATELSKA PO .N IPL ZIELONI  \\\n",
      "0                                              14329                    \n",
      "1                                              16811                    \n",
      "2                                              16434                    \n",
      "3                                               3888                    \n",
      "4                                               7250                    \n",
      "\n",
      "   KOMITET WYBORCZY POLSKA JEST JEDNA  \\\n",
      "0                               872.0   \n",
      "1                               902.0   \n",
      "2                               609.0   \n",
      "3                               243.0   \n",
      "4                               275.0   \n",
      "\n",
      "   KOMITET WYBORCZY WYBORCÓW RUCHU DOBROBYTU I POKOJU  \\\n",
      "0                                                NaN    \n",
      "1                                                NaN    \n",
      "2                                                NaN    \n",
      "3                                                NaN    \n",
      "4                                                NaN    \n",
      "\n",
      "   KOMITET WYBORCZY NORMALNY KRAJ  KOMITET WYBORCZY ANTYPARTIA  \\\n",
      "0                             NaN                          NaN   \n",
      "1                             NaN                          NaN   \n",
      "2                             NaN                          NaN   \n",
      "3                             NaN                          NaN   \n",
      "4                             NaN                          NaN   \n",
      "\n",
      "   KOMITET WYBORCZY RUCH NAPRAWY POLSKI  \\\n",
      "0                                   NaN   \n",
      "1                                   NaN   \n",
      "2                                   NaN   \n",
      "3                                   NaN   \n",
      "4                                   NaN   \n",
      "\n",
      "   KOMITET WYBORCZY WYBORCÓW MNIEJSZOŚĆ NIEMIECKA  \n",
      "0                                             NaN  \n",
      "1                                             NaN  \n",
      "2                                             NaN  \n",
      "3                                             NaN  \n",
      "4                                             NaN  \n",
      "\n",
      "[5 rows x 41 columns]\n",
      "Wszystkie kody są dopasowane.\n",
      "380\n"
     ]
    }
   ],
   "source": [
    "df_wyniki = pd.read_csv('Dane/2023_Sejmowe.csv', sep=';')\n",
    "df_wyniki['TERYT Powiatu'] = pd.to_numeric(df_wyniki['TERYT Powiatu'], errors='coerce')\n",
    "df_wyniki = df_wyniki.dropna(subset=['TERYT Powiatu'])\n",
    "\n",
    "df_wyniki['TERYT Powiatu'] = df_wyniki['TERYT Powiatu'].astype(int)\n",
    "df_wyniki['TERYT Powiatu'] *= 10\n",
    "print(df_wyniki.head())\n",
    "\n",
    "\n",
    "# Konwersja df_nazwy['kod'] na zbiór dla szybszego wyszukiwania\n",
    "nazwy_kody = set(df_nazwy['kod'])\n",
    "\n",
    "# Sprawdzamy brakujące kody\n",
    "brakujace_kody = [val for val in df_wyniki['TERYT Powiatu'] if val not in nazwy_kody]\n",
    "\n",
    "# Wypisujemy brakujące wartości, jeśli istnieją\n",
    "if brakujace_kody:\n",
    "    print(\"BRAK kodów:\", brakujace_kody)\n",
    "else:\n",
    "    print(\"Wszystkie kody są dopasowane.\")\n",
    "print(len(nazwy_kody))\n"
   ]
  },
  {
   "cell_type": "code",
   "execution_count": 104,
   "id": "301ff8c4e3a25b6f",
   "metadata": {
    "ExecuteTime": {
     "end_time": "2025-02-20T00:15:45.398557Z",
     "start_time": "2025-02-20T00:15:45.387872Z"
    }
   },
   "outputs": [],
   "source": [
    "df_wyniki = df_wyniki.drop(columns=df_wyniki.columns[-6:])"
   ]
  },
  {
   "cell_type": "code",
   "execution_count": 105,
   "id": "9c29bffa",
   "metadata": {},
   "outputs": [],
   "source": [
    "df_wyniki.rename(columns={\n",
    "    'TERYT Powiatu': 'Kod',\n",
    "    'Liczba wyborców uprawnionych do głosowania': 'Uprawnieni do głosowania',\n",
    "    'KOMITET WYBORCZY BEZPARTYJNI SAMORZĄDOWCY': 'Bezpartyjni Samorządowcy',\n",
    "    'KOALICYJNY KOMITET WYBORCZY TRZECIA DROGA POLSKA 2050 SZYMONA HOŁOWNI - POLSKIE STRONNICTWO LUDOWE': 'Trzecia Droga',\n",
    "    'KOMITET WYBORCZY KONFEDERACJA WOLNOŚĆ I NIEPODLEGŁOŚĆ': 'Konfederacja',\n",
    "    'KOALICYJNY KOMITET WYBORCZY KOALICJA OBYWATELSKA PO .N IPL ZIELONI': 'Koalicja Obywatelska',\n",
    "    'KOMITET WYBORCZY NOWA LEWICA': 'Lewica',\n",
    "    'KOMITET WYBORCZY PRAWO I SPRAWIEDLIWOŚĆ': 'Prawo i Sprawiedliwość',\n",
    "    'Liczba kart ważnych': 'Ważnych kart',\n",
    "    'Liczba głosów ważnych oddanych łącznie na wszystkie listy kandydatów': 'Oddane głosy'\n",
    "}, inplace=True)\n",
    "\n",
    "kolumny_do_usuniecia = list(df_wyniki.columns[:29])\n",
    "kolumny_do_zachowania = ['Kod', 'Uprawnieni do głosowania', 'Ważnych kart', 'Oddane głosy']\n",
    "kolumny = [col for col in df_wyniki.columns if col not in kolumny_do_usuniecia or col in kolumny_do_zachowania]\n",
    "kolumny.remove('Bezpartyjni Samorządowcy')\n",
    "del kolumny_do_zachowania, kolumny_do_usuniecia\n",
    "df_wyniki = df_wyniki[kolumny]\n",
    "del kolumny"
   ]
  },
  {
   "cell_type": "code",
   "execution_count": 106,
   "id": "4c95b344",
   "metadata": {},
   "outputs": [],
   "source": [
    "kolumny = df_wyniki.columns\n",
    "kolumny = kolumny.to_list()\n",
    "kolumny.extend(['Data', 'Typ wyborów'])\n",
    "df = df_wyniki.copy()\n",
    "\n",
    "df = df_wyniki.assign(Data='2023-10-15', Typ_wyborów='Sejmowe')\n"
   ]
  },
  {
   "cell_type": "code",
   "execution_count": 107,
   "id": "875f267a",
   "metadata": {},
   "outputs": [
    {
     "name": "stdout",
     "output_type": "stream",
     "text": [
      "['Kod TERYT', 'Liczba wyborców uprawnionych do głosowania', 'Liczba kart ważnych', 'Liczba głosów ważnych oddanych łącznie na wszystkich kandydatów', 'Robert BIEDROŃ', 'Krzysztof BOSAK', 'Andrzej Sebastian DUDA', 'Szymon Franciszek HOŁOWNIA', 'Marek JAKUBIAK', 'Władysław Marcin KOSINIAK-KAMYSZ', 'Mirosław Mariusz PIOTROWSKI', 'Paweł Jan TANAJNO', 'Rafał Kazimierz TRZASKOWSKI']\n"
     ]
    }
   ],
   "source": [
    "df_wyniki = pd.read_csv('Dane/2020_Prezydenckie.csv', sep=';')\n",
    "kolumny_do_usuniecia = list(df_wyniki.columns[:26])\n",
    "kolumny_do_zachowania = ['Kod TERYT', 'Liczba wyborców uprawnionych do głosowania', 'Liczba kart ważnych', 'Liczba głosów ważnych oddanych łącznie na wszystkich kandydatów']\n",
    "kolumny = [col for col in df_wyniki.columns if col not in kolumny_do_usuniecia or col in kolumny_do_zachowania]\n",
    "kolumny = kolumny[:-3]\n",
    "print(kolumny)"
   ]
  },
  {
   "cell_type": "code",
   "execution_count": 108,
   "id": "86e0c3a6",
   "metadata": {},
   "outputs": [],
   "source": [
    "kolumny.remove('Paweł Jan TANAJNO')\n",
    "kolumny.remove('Marek JAKUBIAK')\n",
    "kolumny.remove('Mirosław Mariusz PIOTROWSKI')"
   ]
  },
  {
   "cell_type": "code",
   "execution_count": 109,
   "id": "8abe662b",
   "metadata": {},
   "outputs": [],
   "source": [
    "df_wyniki = df_wyniki[kolumny]\n",
    "del kolumny, kolumny_do_usuniecia, kolumny_do_zachowania\n",
    "df_wyniki.rename(columns={\n",
    "    'Kod TERYT': 'Kod',\n",
    "    'Liczba wyborców uprawnionych do głosowania': 'Uprawnieni do głosowania',\n",
    "    'Liczba głosów ważnych oddanych łącznie na wszystkich kandydatów': 'Oddane głosy',\n",
    "    'Liczba kart ważnych': 'Ważnych kart',\n",
    "    'Krzysztof BOSAK': 'Konfederacja',\n",
    "    'Andrzej Sebastian DUDA': 'Prawo i Sprawiedliwość',\n",
    "    'Szymon Franciszek HOŁOWNIA': 'Polska 2050',\n",
    "    'Władysław Marcin KOSINIAK-KAMYSZ': 'Polskie Stronnictwo Ludowe',\n",
    "    'Rafał Kazimierz TRZASKOWSKI': 'Koalicja Obywatelska',\n",
    "    'Robert BIEDROŃ': 'Lewica'\n",
    "}, inplace=True)"
   ]
  },
  {
   "cell_type": "code",
   "execution_count": 110,
   "id": "6096da5d",
   "metadata": {},
   "outputs": [
    {
     "name": "stdout",
     "output_type": "stream",
     "text": [
      "     Kod  Uprawnieni do głosowania  Ważnych kart  Oddane głosy  Lewica  \\\n",
      "0  20100                     68554         41194         41035     852   \n",
      "1  20200                     78876         46499         46340    1002   \n",
      "2  20300                     67357         42143         42019     980   \n",
      "3  20400                     27089         14642         14602     292   \n",
      "4  20500                     39708         23406         23314     479   \n",
      "\n",
      "   Konfederacja  Prawo i Sprawiedliwość  Polska 2050  \\\n",
      "0          2759                   17053         6726   \n",
      "1          2824                   20403         6336   \n",
      "2          2499                   18568         5969   \n",
      "3           906                    7307         1918   \n",
      "4          1528                   11139         2607   \n",
      "\n",
      "   Polskie Stronnictwo Ludowe  Koalicja Obywatelska  \n",
      "0                         633                 12732  \n",
      "1                         687                 14770  \n",
      "2                         736                 13000  \n",
      "3                         378                  3722  \n",
      "4                         717                  6708  \n",
      "     Kod  Uprawnieni do głosowania  Ważnych kart  Oddane głosy  Lewica  \\\n",
      "0  20100                     68554         41194         41035     852   \n",
      "1  20200                     78876         46499         46340    1002   \n",
      "2  20300                     67357         42143         42019     980   \n",
      "3  20400                     27089         14642         14602     292   \n",
      "4  20500                     39708         23406         23314     479   \n",
      "\n",
      "   Konfederacja  Prawo i Sprawiedliwość  Koalicja Obywatelska  Trzecia Droga  \n",
      "0          2759                   17053                 12732           7359  \n",
      "1          2824                   20403                 14770           7023  \n",
      "2          2499                   18568                 13000           6705  \n",
      "3           906                    7307                  3722           2296  \n",
      "4          1528                   11139                  6708           3324  \n"
     ]
    }
   ],
   "source": [
    "print(df_wyniki.head())\n",
    "df_wyniki['Trzecia Droga'] = df_wyniki['Polska 2050'] + df_wyniki['Polskie Stronnictwo Ludowe']\n",
    "df_wyniki = df_wyniki.drop(columns=['Polskie Stronnictwo Ludowe', 'Polska 2050'])\n",
    "print(df_wyniki.head())"
   ]
  },
  {
   "cell_type": "code",
   "execution_count": 111,
   "id": "72b12e92",
   "metadata": {},
   "outputs": [
    {
     "name": "stdout",
     "output_type": "stream",
     "text": [
      "      Kod  Uprawnieni do głosowania  Ważnych kart  Oddane głosy  Lewica  \\\n",
      "0  201000                     68554         41194         41035     852   \n",
      "1  202000                     78876         46499         46340    1002   \n",
      "2  203000                     67357         42143         42019     980   \n",
      "3  204000                     27089         14642         14602     292   \n",
      "4  205000                     39708         23406         23314     479   \n",
      "\n",
      "   Konfederacja  Prawo i Sprawiedliwość  Koalicja Obywatelska  Trzecia Droga  \n",
      "0          2759                   17053                 12732           7359  \n",
      "1          2824                   20403                 14770           7023  \n",
      "2          2499                   18568                 13000           6705  \n",
      "3           906                    7307                  3722           2296  \n",
      "4          1528                   11139                  6708           3324  \n",
      "Wszystkie kody są dopasowane.\n",
      "380\n"
     ]
    }
   ],
   "source": [
    "df_wyniki['Kod'] = df_wyniki['Kod'].astype(int)\n",
    "df_wyniki['Kod'] *= 10\n",
    "print(df_wyniki.head())\n",
    "\n",
    "\n",
    "# Konwersja df_nazwy['kod'] na zbiór dla szybszego wyszukiwania\n",
    "nazwy_kody = set(df_nazwy['kod'])\n",
    "\n",
    "# Sprawdzamy brakujące kody\n",
    "brakujace_kody = [val for val in df_wyniki['Kod'] if val not in nazwy_kody]\n",
    "\n",
    "# Wypisujemy brakujące wartości, jeśli istnieją\n",
    "if brakujace_kody:\n",
    "    print(\"BRAK kodów:\", brakujace_kody)\n",
    "else:\n",
    "    print(\"Wszystkie kody są dopasowane.\")\n",
    "print(len(nazwy_kody))\n"
   ]
  },
  {
   "cell_type": "code",
   "execution_count": 112,
   "id": "52e5f17b",
   "metadata": {},
   "outputs": [
    {
     "name": "stdout",
     "output_type": "stream",
     "text": [
      "        Kod  Uprawnieni do głosowania  Ważnych kart  Oddane głosy  \\\n",
      "0    201000                     66394         46510         45479   \n",
      "380  201000                     68554         41194         41035   \n",
      "381  202000                     78876         46499         46340   \n",
      "1    202000                     74042         50902         49867   \n",
      "2    203000                     64410         47421         46604   \n",
      "\n",
      "     Trzecia Droga  Lewica  Prawo i Sprawiedliwość  Konfederacja  \\\n",
      "0             5339    4146                   15465          3425   \n",
      "380           7359     852                   17053          2759   \n",
      "381           7023    1002                   20403          2824   \n",
      "1             6041    3797                   17865          3582   \n",
      "2             4417    4120                   17212          2851   \n",
      "\n",
      "     Koalicja Obywatelska        Data   Typ_wyborów  \n",
      "0                   14329  2023-10-15       Sejmowe  \n",
      "380                 12732  2020-06-28  Prezydenckie  \n",
      "381                 14770  2020-06-28  Prezydenckie  \n",
      "1                   16811  2023-10-15       Sejmowe  \n",
      "2                   16434  2023-10-15       Sejmowe  \n"
     ]
    }
   ],
   "source": [
    "df_wyniki = df_wyniki.assign(Data='2020-06-28', Typ_wyborów='Prezydenckie')\n",
    "df = pd.concat([df, df_wyniki], ignore_index=True)\n",
    "\n",
    "print(df.sort_values(by='Kod').head())"
   ]
  },
  {
   "cell_type": "code",
   "execution_count": 113,
   "id": "5de3b857",
   "metadata": {},
   "outputs": [],
   "source": [
    "df_wyniki = pd.read_csv('Dane/2019_Sejmowe.csv', sep=';')\n",
    "\n",
    "kolumny_do_zachowania = ['Kod TERYT', 'Liczba wyborców uprawnionych do głosowania', 'Liczba kart ważnych', 'Liczba głosów ważnych oddanych łącznie na wszystkie listy kandydatów']\n",
    "kolumny_do_usuniecia = list(df_wyniki.columns[:25])\n",
    "kolumny = [col for col in df_wyniki.columns if col not in kolumny_do_usuniecia or col in kolumny_do_zachowania]\n",
    "kolumny.remove('KOMITET WYBORCZY AKCJA ZAWIEDZIONYCH EMERYTÓW RENCISTÓW - ZPOW-601-21/19')\n",
    "kolumny.remove('KOMITET WYBORCZY PRAWICA - ZPOW-601-20/19')\n",
    "kolumny.remove('KOMITET WYBORCZY SKUTECZNI PIOTRA LIROYA-MARCA - ZPOW-601-17/19')\n",
    "kolumny.remove('KOMITET WYBORCZY WYBORCÓW KOALICJA BEZPARTYJNI I SAMORZĄDOWCY - ZPOW-601-10/19')\n",
    "kolumny.remove('KOMITET WYBORCZY WYBORCÓW MNIEJSZOŚĆ NIEMIECKA - ZPOW-601-15/19')\n",
    "df_wyniki = df_wyniki[kolumny]\n"
   ]
  },
  {
   "cell_type": "code",
   "execution_count": 114,
   "id": "096b5866",
   "metadata": {},
   "outputs": [
    {
     "name": "stdout",
     "output_type": "stream",
     "text": [
      "Index(['Kod', 'Uprawnieni do głosowania', 'Ważnych kart', 'Oddane głosy',\n",
      "       'Koalicja Obywatelska', 'Konfederacja', 'Trzecia Droga',\n",
      "       'Prawo i Sprawiedliwość', 'Lewica'],\n",
      "      dtype='object')\n"
     ]
    }
   ],
   "source": [
    "df_wyniki.rename(columns={\n",
    "    'Kod TERYT': 'Kod',\n",
    "    'Liczba wyborców uprawnionych do głosowania': 'Uprawnieni do głosowania',\n",
    "    'Liczba głosów ważnych oddanych łącznie na wszystkie listy kandydatów': 'Oddane głosy',\n",
    "    'Liczba kart ważnych': 'Ważnych kart',\n",
    "    'KOALICYJNY KOMITET WYBORCZY KOALICJA OBYWATELSKA PO .N IPL ZIELONI - ZPOW-601-6/19': 'Koalicja Obywatelska',\n",
    "    'KOMITET WYBORCZY KONFEDERACJA WOLNOŚĆ I NIEPODLEGŁOŚĆ - ZPOW-601-5/19': 'Konfederacja',\n",
    "    'KOMITET WYBORCZY POLSKIE STRONNICTWO LUDOWE - ZPOW-601-19/19': 'Trzecia Droga',\n",
    "    'KOMITET WYBORCZY PRAWO I SPRAWIEDLIWOŚĆ - ZPOW-601-9/19': 'Prawo i Sprawiedliwość',\n",
    "    'KOMITET WYBORCZY SOJUSZ LEWICY DEMOKRATYCZNEJ - ZPOW-601-1/19': 'Lewica'\n",
    "}, inplace=True)\n",
    "print(df_wyniki.columns)"
   ]
  },
  {
   "cell_type": "code",
   "execution_count": 115,
   "id": "f5dfad32",
   "metadata": {},
   "outputs": [
    {
     "name": "stdout",
     "output_type": "stream",
     "text": [
      "      Kod  Uprawnieni do głosowania  Ważnych kart  Oddane głosy  \\\n",
      "0  201000                     69098         38608         38018   \n",
      "1  202000                     80196         44431         43827   \n",
      "2  203000                     68354         41193         40741   \n",
      "3  204000                     27176         13695         13478   \n",
      "4  205000                     39924         21941         21600   \n",
      "\n",
      "   Koalicja Obywatelska  Konfederacja  Trzecia Droga  Prawo i Sprawiedliwość  \\\n",
      "0                  7803          2558           2741                   16136   \n",
      "1                 11618          2473           4612                   19113   \n",
      "2                 10657          2154           2066                   18041   \n",
      "3                  3044           749           1090                    6581   \n",
      "4                  4623          1164           2208                   10364   \n",
      "\n",
      "   Lewica  \n",
      "0    6716  \n",
      "1    4897  \n",
      "2    6799  \n",
      "3    1518  \n",
      "4    2865  \n",
      "Wszystkie kody są dopasowane.\n",
      "380\n"
     ]
    }
   ],
   "source": [
    "df_wyniki['Kod'] = df_wyniki['Kod'].astype(int)\n",
    "df_wyniki['Kod'] *= 10\n",
    "print(df_wyniki.head())\n",
    "\n",
    "\n",
    "# Konwersja df_nazwy['kod'] na zbiór dla szybszego wyszukiwania\n",
    "nazwy_kody = set(df_nazwy['kod'])\n",
    "\n",
    "# Sprawdzamy brakujące kody\n",
    "brakujace_kody = [val for val in df_wyniki['Kod'] if val not in nazwy_kody]\n",
    "\n",
    "# Wypisujemy brakujące wartości, jeśli istnieją\n",
    "if brakujace_kody:\n",
    "    print(\"BRAK kodów:\", brakujace_kody)\n",
    "else:\n",
    "    print(\"Wszystkie kody są dopasowane.\")\n",
    "print(len(nazwy_kody))\n"
   ]
  },
  {
   "cell_type": "code",
   "execution_count": 116,
   "id": "a3667d94",
   "metadata": {},
   "outputs": [],
   "source": [
    "df_wyniki = df_wyniki.assign(Data='2019-10-13', Typ_wyborów='Sejmowe')\n",
    "df = pd.concat([df, df_wyniki], ignore_index=True)"
   ]
  },
  {
   "cell_type": "code",
   "execution_count": 117,
   "id": "d9763755",
   "metadata": {},
   "outputs": [],
   "source": [
    "df_wyniki = pd.read_excel('Dane/2018_Samorządowe.xlsx')\n",
    "\n",
    "\n",
    "kolumny_do_zachowania = ['TERYT', 'Liczba wyborców uprawnionych do głosowania', 'Liczba kart ważnych', 'Liczba głosów ważnych']\n",
    "kolumny_do_usuniecia = list(df_wyniki.columns[:26])\n",
    "\n",
    "kolumny = [col for col in df_wyniki.columns if col not in kolumny_do_usuniecia or col in kolumny_do_zachowania]\n",
    "df_wyniki = df_wyniki[kolumny[:-18]]"
   ]
  },
  {
   "cell_type": "code",
   "execution_count": 118,
   "id": "cf91f31e",
   "metadata": {},
   "outputs": [
    {
     "name": "stdout",
     "output_type": "stream",
     "text": [
      "Index(['Kod', 'Uprawnieni do głosowania', 'Ważnych kart', 'Oddane głosy',\n",
      "       'Prawo i Sprawiedliwość', 'Koalicja Obywatelska', 'Trzecia Droga',\n",
      "       'Lewica', 'Wolność', 'Razem', 'Ruch Narodowy', 'KW PARTIA ZIELONI'],\n",
      "      dtype='object')\n"
     ]
    }
   ],
   "source": [
    "df_wyniki = df_wyniki.drop(columns=[\"KWW KUKIZ'15\", \"KWW BEZPARTYJNI SAMORZĄDOWCY\"])\n",
    "df_wyniki.rename(columns={\n",
    "    'TERYT': 'Kod',\n",
    "    'Liczba wyborców uprawnionych do głosowania': 'Uprawnieni do głosowania',\n",
    "    'Liczba głosów ważnych': 'Oddane głosy',\n",
    "    'Liczba kart ważnych': 'Ważnych kart',\n",
    "    'KW PRAWO I SPRAWIEDLIWOŚĆ': 'Prawo i Sprawiedliwość',\n",
    "    'KKW PLATFORMA.NOWOCZESNA KOALICJA OBYWATELSKA': 'Koalicja Obywatelska',\n",
    "    'KOMITET WYBORCZY PSL': 'Trzecia Droga',\n",
    "    'KKW SLD LEWICA RAZEM': 'Lewica',\n",
    "    'KW RAZEM': 'Razem',\n",
    "    'KWW WOLNOŚĆ W SAMORZĄDZIE': 'Wolność',\n",
    "    'KW RUCH NARODOWY RP': 'Ruch Narodowy',\n",
    "}, inplace=True)\n",
    "\n",
    "print(df_wyniki.columns)"
   ]
  },
  {
   "cell_type": "code",
   "execution_count": 119,
   "id": "d12e4ec9",
   "metadata": {},
   "outputs": [],
   "source": [
    "df_wyniki['Konfederacja'] = df_wyniki['Wolność'].fillna(0) + df_wyniki['Ruch Narodowy'].fillna(0)\n",
    "\n",
    "df_wyniki['Lewica'] = df_wyniki['Razem'] + df_wyniki['Lewica']\n",
    "df_wyniki['Koalicja Obywatelska'] = df_wyniki['Koalicja Obywatelska'] + df_wyniki['KW PARTIA ZIELONI'].fillna(0)\n",
    "df_wyniki = df_wyniki.drop(columns=['Wolność', 'Ruch Narodowy', 'KW PARTIA ZIELONI', 'Razem'])"
   ]
  },
  {
   "cell_type": "code",
   "execution_count": 120,
   "id": "c236a5d1",
   "metadata": {},
   "outputs": [
    {
     "name": "stdout",
     "output_type": "stream",
     "text": [
      "      Kod  Uprawnieni do głosowania  Ważnych kart  Oddane głosy  \\\n",
      "0  201000                     70600         36148         32887   \n",
      "1  202000                     82041         40891         37752   \n",
      "2  203000                     70005         37021         34576   \n",
      "3  204000                     27893         14052         12086   \n",
      "4  205000                     41084         22786         20555   \n",
      "\n",
      "   Prawo i Sprawiedliwość  Koalicja Obywatelska  Trzecia Droga  Lewica  \\\n",
      "0                    7961                3065.0           1180    1984   \n",
      "1                   12308                9810.0           1756    3149   \n",
      "2                   11627                9144.0           1242    3821   \n",
      "3                    4083                3031.0            927     664   \n",
      "4                    6230                4003.0           3502    1318   \n",
      "\n",
      "   Konfederacja  \n",
      "0         944.0  \n",
      "1        1290.0  \n",
      "2         677.0  \n",
      "3         345.0  \n",
      "4         454.0  \n",
      "Wszystkie kody są dopasowane.\n",
      "380\n"
     ]
    }
   ],
   "source": [
    "df_wyniki['Kod'] = df_wyniki['Kod'].astype(int)\n",
    "df_wyniki['Kod'] *= 1000\n",
    "print(df_wyniki.head())\n",
    "\n",
    "\n",
    "# Konwersja df_nazwy['kod'] na zbiór dla szybszego wyszukiwania\n",
    "nazwy_kody = set(df_nazwy['kod'])\n",
    "\n",
    "# Sprawdzamy brakujące kody\n",
    "brakujace_kody = [val for val in df_wyniki['Kod'] if val not in nazwy_kody]\n",
    "\n",
    "# Wypisujemy brakujące wartości, jeśli istnieją\n",
    "if brakujace_kody:\n",
    "    print(\"BRAK kodów:\", brakujace_kody)\n",
    "else:\n",
    "    print(\"Wszystkie kody są dopasowane.\")\n",
    "print(len(nazwy_kody))\n"
   ]
  },
  {
   "cell_type": "code",
   "execution_count": 121,
   "id": "504f8526",
   "metadata": {},
   "outputs": [
    {
     "name": "stdout",
     "output_type": "stream",
     "text": [
      "         Kod  Uprawnieni do głosowania  Ważnych kart  Oddane głosy  \\\n",
      "0     201000                     66394         46510         45479   \n",
      "760   201000                     69098         38608         38018   \n",
      "1140  201000                     70600         36148         32887   \n",
      "380   201000                     68554         41194         41035   \n",
      "1     202000                     74042         50902         49867   \n",
      "\n",
      "      Trzecia Droga  Lewica  Prawo i Sprawiedliwość  Konfederacja  \\\n",
      "0              5339    4146                   15465        3425.0   \n",
      "760            2741    6716                   16136        2558.0   \n",
      "1140           1180    1984                    7961         944.0   \n",
      "380            7359     852                   17053        2759.0   \n",
      "1              6041    3797                   17865        3582.0   \n",
      "\n",
      "      Koalicja Obywatelska        Data   Typ_wyborów  \n",
      "0                  14329.0  2023-10-15       Sejmowe  \n",
      "760                 7803.0  2019-10-13       Sejmowe  \n",
      "1140                3065.0  2018-06-30   Samorządowe  \n",
      "380                12732.0  2020-06-28  Prezydenckie  \n",
      "1                  16811.0  2023-10-15       Sejmowe  \n"
     ]
    }
   ],
   "source": [
    "df_wyniki = df_wyniki.assign(Data='2018-06-30', Typ_wyborów='Samorządowe')\n",
    "df = pd.concat([df, df_wyniki], ignore_index=True)\n",
    "\n",
    "print(df.sort_values(by='Kod').head())"
   ]
  },
  {
   "cell_type": "code",
   "execution_count": 122,
   "id": "a92f7840",
   "metadata": {},
   "outputs": [],
   "source": [
    "df_wyniki = pd.read_excel('Dane/2024_Samorządowe.xlsx')\n",
    "\n",
    "\n",
    "kolumny_do_usuniecia = list(df_wyniki.columns[:27])\n",
    "kolumny_do_zachowania = ['TERYT Powiatu', 'Liczba wyborców uprawnionych do głosowania', 'Liczba kart ważnych', 'Liczba głosów ważnych oddanych łącznie na wszystkie listy kandydatów']\n",
    "kolumny = [col for col in df_wyniki.columns if col not in kolumny_do_usuniecia or col in kolumny_do_zachowania]\n",
    "kolumny = kolumny[:-20]\n",
    "kolumny.remove('KOMITET WYBORCZY NORMALNY KRAJ')\n",
    "kolumny.remove('KOMITET WYBORCZY POLSKA LIBERALNA STRAJK PRZEDSIĘBIORCÓW')\n",
    "kolumny.remove('KOMITET WYBORCZY INICJATYWA OBYWATELSKA POWIATU TARNOGÓRSKIEGO')\n",
    "kolumny.remove('KOMITET WYBORCZY KOALICJA SAMORZĄDOWA OK SAMORZĄD')\n",
    "kolumny.append('KOMITET WYBORCZY WYBORCÓW KONFEDERACJA I BEZPARTYJNI SAMORZĄDOWCY')\n",
    "df_wyniki = df_wyniki[kolumny]"
   ]
  },
  {
   "cell_type": "code",
   "execution_count": 123,
   "id": "11663343",
   "metadata": {},
   "outputs": [],
   "source": [
    "df_wyniki.rename(columns={\n",
    "    'TERYT Powiatu': 'Kod',\n",
    "    'Liczba wyborców uprawnionych do głosowania': 'Uprawnieni do głosowania',\n",
    "    'Liczba głosów ważnych oddanych łącznie na wszystkie listy kandydatów': 'Oddane głosy',\n",
    "    'Liczba kart ważnych': 'Ważnych kart',\n",
    "    'KOALICYJNY KOMITET WYBORCZY KOALICJA OBYWATELSKA': 'Koalicja Obywatelska',\n",
    "    'KOMITET WYBORCZY WYBORCÓW KONFEDERACJA I BEZPARTYJNI SAMORZĄDOWCY': 'Konfederacja',\n",
    "    'KOALICYJNY KOMITET WYBORCZY TRZECIA DROGA POLSKA 2050 SZYMONA HOŁOWNI - POLSKIE STRONNICTWO LUDOWE': 'Trzecia Droga',\n",
    "    'KOMITET WYBORCZY PRAWO I SPRAWIEDLIWOŚĆ': 'Prawo i Sprawiedliwość',\n",
    "    'KOALICYJNY KOMITET WYBORCZY LEWICA': 'Lewica'\n",
    "},inplace=True)"
   ]
  },
  {
   "cell_type": "code",
   "execution_count": 124,
   "id": "8ac4362f",
   "metadata": {},
   "outputs": [
    {
     "name": "stdout",
     "output_type": "stream",
     "text": [
      "      Kod  Uprawnieni do głosowania  Ważnych kart  Oddane głosy  \\\n",
      "0  201000                     67774         32626         30749   \n",
      "1  202000                     75472         35101         33272   \n",
      "2  203000                     66107         31646         30376   \n",
      "3  204000                     26261         13509         12204   \n",
      "4  205000                     38267         19895         18672   \n",
      "\n",
      "   Koalicja Obywatelska  Lewica  Trzecia Droga  Prawo i Sprawiedliwość  \\\n",
      "0                  5371    1911           4269                    8074   \n",
      "1                 10806    2134           4288                   10873   \n",
      "2                  9235    2329           3559                   10721   \n",
      "3                  2120     664           1171                    3454   \n",
      "4                  4799     994           2418                    6571   \n",
      "\n",
      "   Konfederacja  \n",
      "0          1710  \n",
      "1          2366  \n",
      "2          1832  \n",
      "3           813  \n",
      "4          1526  \n",
      "Wszystkie kody są dopasowane.\n",
      "380\n"
     ]
    }
   ],
   "source": [
    "df_wyniki['Kod'] = df_wyniki['Kod'].astype(int)\n",
    "df_wyniki['Kod'] *= 10\n",
    "print(df_wyniki.head())\n",
    "\n",
    "\n",
    "# Konwersja df_nazwy['kod'] na zbiór dla szybszego wyszukiwania\n",
    "nazwy_kody = set(df_nazwy['kod'])\n",
    "\n",
    "# Sprawdzamy brakujące kody\n",
    "brakujace_kody = [val for val in df_wyniki['Kod'] if val not in nazwy_kody]\n",
    "\n",
    "# Wypisujemy brakujące wartości, jeśli istnieją\n",
    "if brakujace_kody:\n",
    "    print(\"BRAK kodów:\", brakujace_kody)\n",
    "else:\n",
    "    print(\"Wszystkie kody są dopasowane.\")\n",
    "print(len(nazwy_kody))\n"
   ]
  },
  {
   "cell_type": "code",
   "execution_count": 125,
   "id": "74bba445",
   "metadata": {},
   "outputs": [
    {
     "name": "stdout",
     "output_type": "stream",
     "text": [
      "         Kod  Uprawnieni do głosowania  Ważnych kart  Oddane głosy  \\\n",
      "0     201000                     66394         46510         45479   \n",
      "1520  201000                     67774         32626         30749   \n",
      "1140  201000                     70600         36148         32887   \n",
      "760   201000                     69098         38608         38018   \n",
      "380   201000                     68554         41194         41035   \n",
      "\n",
      "      Trzecia Droga  Lewica  Prawo i Sprawiedliwość  Konfederacja  \\\n",
      "0              5339    4146                   15465        3425.0   \n",
      "1520           4269    1911                    8074        1710.0   \n",
      "1140           1180    1984                    7961         944.0   \n",
      "760            2741    6716                   16136        2558.0   \n",
      "380            7359     852                   17053        2759.0   \n",
      "\n",
      "      Koalicja Obywatelska        Data   Typ_wyborów  \n",
      "0                  14329.0  2023-10-15       Sejmowe  \n",
      "1520                5371.0  2024-04-07   Samorządowe  \n",
      "1140                3065.0  2018-06-30   Samorządowe  \n",
      "760                 7803.0  2019-10-13       Sejmowe  \n",
      "380                12732.0  2020-06-28  Prezydenckie  \n"
     ]
    }
   ],
   "source": [
    "df_wyniki = df_wyniki.assign(Data='2024-04-07', Typ_wyborów='Samorządowe')\n",
    "df = pd.concat([df, df_wyniki], ignore_index=True)\n",
    "\n",
    "print(df.sort_values(by='Kod').head())"
   ]
  },
  {
   "cell_type": "code",
   "execution_count": 126,
   "id": "f74c72a8",
   "metadata": {},
   "outputs": [],
   "source": [
    "df_wyniki = pd.read_csv('Dane/2024_Europarlament.csv', sep=';')\n",
    "\n",
    "kolumny_do_zachowania = ['TERYT Powiatu', 'Liczba wyborców uprawnionych do głosowania', 'Liczba kart ważnych', 'Liczba głosów ważnych oddanych łącznie na wszystkie listy kandydatów']\n",
    "kolumny_do_usuniecia = list(df_wyniki.columns[:33])\n",
    "kolumny = [col for col in df_wyniki.columns[:-3] if col not in kolumny_do_usuniecia or col in kolumny_do_zachowania]\n",
    "kolumny.remove('KOMITET WYBORCZY POLEXIT')\n",
    "kolumny.remove('KOMITET WYBORCZY POLSKA LIBERALNA STRAJK PRZEDSIĘBIORCÓW')\n",
    "kolumny.remove('KOMITET WYBORCZY NORMALNY KRAJ')\n",
    "df_wyniki = df_wyniki[kolumny]"
   ]
  },
  {
   "cell_type": "code",
   "execution_count": 127,
   "id": "d42d0727",
   "metadata": {},
   "outputs": [
    {
     "name": "stdout",
     "output_type": "stream",
     "text": [
      "Index(['Kod', 'Uprawnieni do głosowania', 'Ważnych kart', 'Oddane głosy',\n",
      "       'Koalicja Obywatelska', 'Lewica', 'Trzecia Droga', 'Konfederacja',\n",
      "       'Prawo i Sprawiedliwość'],\n",
      "      dtype='object')\n"
     ]
    }
   ],
   "source": [
    "df_wyniki.rename(columns={\n",
    "    'TERYT Powiatu': 'Kod',\n",
    "    'Liczba wyborców uprawnionych do głosowania': 'Uprawnieni do głosowania',\n",
    "    'Liczba głosów ważnych oddanych łącznie na wszystkie listy kandydatów': 'Oddane głosy',\n",
    "    'Liczba kart ważnych': 'Ważnych kart',\n",
    "    'KOALICYJNY KOMITET WYBORCZY KOALICJA OBYWATELSKA': 'Koalicja Obywatelska',\n",
    "    'KOMITET WYBORCZY KONFEDERACJA WOLNOŚĆ I NIEPODLEGŁOŚĆ': 'Konfederacja',\n",
    "    'KOALICYJNY KOMITET WYBORCZY TRZECIA DROGA POLSKA 2050 SZYMONA HOŁOWNI - POLSKIE STRONNICTWO LUDOWE': 'Trzecia Droga',\n",
    "    'KOMITET WYBORCZY PRAWO I SPRAWIEDLIWOŚĆ': 'Prawo i Sprawiedliwość',\n",
    "    'KOALICYJNY KOMITET WYBORCZY LEWICA': 'Lewica'\n",
    "}, inplace=True)\n",
    "print(df_wyniki.columns)"
   ]
  },
  {
   "cell_type": "code",
   "execution_count": 128,
   "id": "5ce6e139",
   "metadata": {},
   "outputs": [
    {
     "name": "stdout",
     "output_type": "stream",
     "text": [
      "      Kod  Uprawnieni do głosowania  Ważnych kart  Oddane głosy  \\\n",
      "0  201000                     67127         23710         23514   \n",
      "1  202000                     74455         27881         27676   \n",
      "2  203000                     65168         25179         25035   \n",
      "3  204000                     25951          7742          7675   \n",
      "4  205000                     37839         13545         13443   \n",
      "\n",
      "   Koalicja Obywatelska  Lewica  Trzecia Droga  Konfederacja  \\\n",
      "0                  8472    1528           1123          3176   \n",
      "1                 10524    1675           1486          3095   \n",
      "2                  8641    2808           1185          2972   \n",
      "3                  2409     606            367          1010   \n",
      "4                  4964     692            608          1610   \n",
      "\n",
      "   Prawo i Sprawiedliwość  \n",
      "0                    8845  \n",
      "1                   10509  \n",
      "2                    9102  \n",
      "3                    3169  \n",
      "4                    5398  \n",
      "Wszystkie kody są dopasowane.\n",
      "380\n"
     ]
    }
   ],
   "source": [
    "df_wyniki['Kod'] = df_wyniki['Kod'].astype(int)\n",
    "df_wyniki['Kod'] *= 10\n",
    "print(df_wyniki.head())\n",
    "\n",
    "\n",
    "# Konwersja df_nazwy['kod'] na zbiór dla szybszego wyszukiwania\n",
    "nazwy_kody = set(df_nazwy['kod'])\n",
    "\n",
    "# Sprawdzamy brakujące kody\n",
    "brakujace_kody = [val for val in df_wyniki['Kod'] if val not in nazwy_kody]\n",
    "\n",
    "# Wypisujemy brakujące wartości, jeśli istnieją\n",
    "if brakujace_kody:\n",
    "    print(\"BRAK kodów:\", brakujace_kody)\n",
    "else:\n",
    "    print(\"Wszystkie kody są dopasowane.\")\n",
    "print(len(nazwy_kody))\n"
   ]
  },
  {
   "cell_type": "code",
   "execution_count": 129,
   "id": "e3448da9",
   "metadata": {},
   "outputs": [
    {
     "name": "stdout",
     "output_type": "stream",
     "text": [
      "         Kod  Uprawnieni do głosowania  Ważnych kart  Oddane głosy  \\\n",
      "0     201000                     66394         46510         45479   \n",
      "1140  201000                     70600         36148         32887   \n",
      "380   201000                     68554         41194         41035   \n",
      "1520  201000                     67774         32626         30749   \n",
      "1900  201000                     67127         23710         23514   \n",
      "\n",
      "      Trzecia Droga  Lewica  Prawo i Sprawiedliwość  Konfederacja  \\\n",
      "0              5339    4146                   15465        3425.0   \n",
      "1140           1180    1984                    7961         944.0   \n",
      "380            7359     852                   17053        2759.0   \n",
      "1520           4269    1911                    8074        1710.0   \n",
      "1900           1123    1528                    8845        3176.0   \n",
      "\n",
      "      Koalicja Obywatelska        Data    Typ_wyborów  \n",
      "0                  14329.0  2023-10-15        Sejmowe  \n",
      "1140                3065.0  2018-06-30    Samorządowe  \n",
      "380                12732.0  2020-06-28   Prezydenckie  \n",
      "1520                5371.0  2024-04-07    Samorządowe  \n",
      "1900                8472.0  2024-06-09  Europarlament  \n"
     ]
    }
   ],
   "source": [
    "df_wyniki = df_wyniki.assign(Data='2024-06-09', Typ_wyborów='Europarlament')\n",
    "df = pd.concat([df, df_wyniki], ignore_index=True)\n",
    "\n",
    "print(df.sort_values(by='Kod').head())"
   ]
  },
  {
   "cell_type": "code",
   "execution_count": 130,
   "id": "87a8e4d9",
   "metadata": {},
   "outputs": [],
   "source": [
    "df.rename(columns={\n",
    "    'Typ_wyborów': 'Typ wyborów'\n",
    "}, inplace=True)"
   ]
  },
  {
   "cell_type": "code",
   "execution_count": 131,
   "id": "5a659bc3",
   "metadata": {},
   "outputs": [],
   "source": [
    "df['Koalicja Obywatelska'] = df['Koalicja Obywatelska'].astype(int)\n",
    "df['Konfederacja'] = df['Konfederacja'].astype(int)"
   ]
  },
  {
   "cell_type": "code",
   "execution_count": null,
   "id": "578dac57",
   "metadata": {},
   "outputs": [],
   "source": [
    "df.to_csv('Dane/Wyniki.csv', sep=';', encoding='utf-8-sig', index=False, )"
   ]
  }
 ],
 "metadata": {
  "kernelspec": {
   "display_name": "AnalizaWyborcza",
   "language": "python",
   "name": "python3"
  },
  "language_info": {
   "codemirror_mode": {
    "name": "ipython",
    "version": 3
   },
   "file_extension": ".py",
   "mimetype": "text/x-python",
   "name": "python",
   "nbconvert_exporter": "python",
   "pygments_lexer": "ipython3",
   "version": "3.12.9"
  }
 },
 "nbformat": 4,
 "nbformat_minor": 5
}
